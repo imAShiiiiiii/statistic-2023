{
 "cells": [
  {
   "cell_type": "code",
   "execution_count": 35,
   "metadata": {},
   "outputs": [
    {
     "name": "stdout",
     "output_type": "stream",
     "text": [
      "https://github.com/minyoongi\n"
     ]
    }
   ],
   "source": [
    "students = [\n",
    "    {'姓名': '金硕珍', '学号': '123456', 'github仓库地址': 'https://github.com/kimjin'},\n",
    "    {'姓名': '闵玧其', '学号': '930309', 'github仓库地址': 'https://github.com/minyoongi'},\n",
    "    {'姓名': '郑号锡', '学号': '345678', 'github仓库地址': 'https://github.com/jhope'},\n",
    "    {'姓名': '金南俊', '学号': '456789', 'github仓库地址': 'https://github.com/kimrm'},\n",
    "    {'姓名': '朴智旻', '学号': '567890', 'github仓库地址': 'https://github.com/parkjimin'},\n",
    "    {'姓名': '田柾国', '学号': '970901', 'github仓库地址': 'https://github.com/junkook'},\n",
    "    {'姓名': '黄冠亨', '学号': '990928', 'github仓库地址': 'https://github.com/henderywong'},\n",
    "    {'姓名': '罗渽民', '学号': '000813', 'github仓库地址': 'https://github.com/jaemin'},\n",
    "    {'姓名': '刘扬扬', '学号': '001010', 'github仓库地址': 'https://github.com/yangyang'}\n",
    "]\n",
    "\n",
    "target_name = \"闵玧其\"\n",
    "\n",
    "for employee in students:\n",
    "    if employee['姓名'] == target_name:\n",
    "        print(employee['github仓库地址'])\n"
   ]
  },
  {
   "cell_type": "code",
   "execution_count": 36,
   "metadata": {},
   "outputs": [],
   "source": [
    "def get_repo_by_name(name,data):\n",
    "    for i in data:\n",
    "        if i['姓名'] == name:\n",
    "            print(i['github仓库地址'])\n"
   ]
  },
  {
   "cell_type": "code",
   "execution_count": 37,
   "metadata": {},
   "outputs": [
    {
     "name": "stdout",
     "output_type": "stream",
     "text": [
      "https://github.com/henderywong\n"
     ]
    }
   ],
   "source": [
    "get_repo_by_name('黄冠亨',students)"
   ]
  }
 ],
 "metadata": {
  "kernelspec": {
   "display_name": "Python 3",
   "language": "python",
   "name": "python3"
  },
  "language_info": {
   "codemirror_mode": {
    "name": "ipython",
    "version": 3
   },
   "file_extension": ".py",
   "mimetype": "text/x-python",
   "name": "python",
   "nbconvert_exporter": "python",
   "pygments_lexer": "ipython3",
   "version": "3.8.10"
  },
  "orig_nbformat": 4
 },
 "nbformat": 4,
 "nbformat_minor": 2
}
