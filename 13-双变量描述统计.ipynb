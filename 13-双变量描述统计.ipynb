{
 "cells": [
  {
   "cell_type": "code",
   "execution_count": 15,
   "metadata": {},
   "outputs": [],
   "source": [
    "import mytools"
   ]
  },
  {
   "cell_type": "code",
   "execution_count": 16,
   "metadata": {},
   "outputs": [
    {
     "data": {
      "text/plain": [
       "'弱相关'"
      ]
     },
     "execution_count": 16,
     "metadata": {},
     "output_type": "execute_result"
    }
   ],
   "source": [
    "mytools.相关系数判断(0.2056)"
   ]
  },
  {
   "cell_type": "code",
   "execution_count": 17,
   "metadata": {},
   "outputs": [],
   "source": [
    "数据表 = mytools.读取SPSS数据文件(R'data\\identity.sav',True)"
   ]
  },
  {
   "cell_type": "code",
   "execution_count": 18,
   "metadata": {},
   "outputs": [
    {
     "name": "stdout",
     "output_type": "stream",
     "text": [
      "0.011483646254089224\n"
     ]
    }
   ],
   "source": [
    "tau_y = mytools.goodmanKruska_tau_y(数据表,'政治面貌','发展信心')\n",
    "print(tau_y)"
   ]
  },
  {
   "cell_type": "code",
   "execution_count": 19,
   "metadata": {},
   "outputs": [
    {
     "data": {
      "text/plain": [
       "'极弱相关或无相关'"
      ]
     },
     "execution_count": 19,
     "metadata": {},
     "output_type": "execute_result"
    }
   ],
   "source": [
    "mytools.相关系数判断(tau_y)"
   ]
  },
  {
   "cell_type": "code",
   "execution_count": 20,
   "metadata": {},
   "outputs": [],
   "source": [
    "from scipy import stats\n"
   ]
  },
  {
   "cell_type": "code",
   "execution_count": 21,
   "metadata": {},
   "outputs": [],
   "source": [
    "from scipy import stats\n",
    "x = 数据表['政治面貌']\n",
    "y = 数据表['年级']\n"
   ]
  },
  {
   "cell_type": "code",
   "execution_count": 22,
   "metadata": {},
   "outputs": [
    {
     "name": "stdout",
     "output_type": "stream",
     "text": [
      "0.026273904917442855\n"
     ]
    }
   ],
   "source": [
    "tau_y = mytools.goodmanKruska_tau_y(数据表,'政治面貌','年级')\n",
    "print(tau_y)"
   ]
  },
  {
   "cell_type": "code",
   "execution_count": 23,
   "metadata": {},
   "outputs": [
    {
     "name": "stdout",
     "output_type": "stream",
     "text": [
      "卡方值： 69.53, p值： 0.0000,自由度:12。\n"
     ]
    }
   ],
   "source": [
    "import pandas as pd\n",
    "chi2, p, dof, ex = stats.chi2_contingency(pd.crosstab(x, y))\n",
    "print(F\"卡方值：{chi2: .2f}, p值：{p: .4f},自由度:{dof}。\")"
   ]
  },
  {
   "cell_type": "code",
   "execution_count": 24,
   "metadata": {},
   "outputs": [
    {
     "name": "stdout",
     "output_type": "stream",
     "text": [
      "tau_y系数: 0.0263 极弱相关或无相关\n",
      "----  --  ---  ---  --  --\n",
      "团员  13  260  208  94  60\n",
      "党员   0   15   33  44  21\n",
      "群众   1   28   30  26  11\n",
      "其他   0    4    7   8   2\n",
      "----  --  ---  ---  --  --\n",
      "卡方值： 69.53, p值： 0.0000,自由度:12。\n",
      "拒绝虚无假设\n"
     ]
    }
   ],
   "source": [
    "mytools.两个无序类别变量的统计分析(数据表,'政治面貌','年级')"
   ]
  },
  {
   "cell_type": "code",
   "execution_count": 25,
   "metadata": {},
   "outputs": [
    {
     "name": "stdout",
     "output_type": "stream",
     "text": [
      "tau_y系数: 0.0061 极弱相关或无相关\n",
      "----  --  --  ---  ---  ---\n",
      "团员  19  22  100  313  181\n",
      "党员   5   2   29   46   31\n",
      "群众   3   4   25   44   20\n",
      "其他   0   0    7    9    5\n",
      "----  --  --  ---  ---  ---\n",
      "卡方值： 17.77, p值： 0.1230,自由度:12。\n",
      "接受虚无假设\n"
     ]
    }
   ],
   "source": [
    "mytools.两个无序类别变量的统计分析(数据表,'政治面貌','会打多少分')"
   ]
  },
  {
   "cell_type": "code",
   "execution_count": 26,
   "metadata": {},
   "outputs": [
    {
     "data": {
      "text/plain": [
       "SomersDResult(statistic=0.07397954142762105, pvalue=0.011417259021690003, table=array([[ 37,   0,   0,   2,   1,   0],\n",
       "       [  0,   0,   0,   5,   7,   2],\n",
       "       [  0,   6,   9,  39, 160,  93],\n",
       "       [  0,  12,  14,  65, 114,  73],\n",
       "       [  0,   7,   3,  35,  88,  39],\n",
       "       [  0,   2,   2,  17,  43,  30]]))"
      ]
     },
     "execution_count": 26,
     "metadata": {},
     "output_type": "execute_result"
    }
   ],
   "source": [
    "from scipy.stats import somersd\n",
    "\"\"\"x,y 应该为定序变量，次序是关键！\"\"\"\n",
    "x = 数据表['年级'].cat.codes\n",
    "y = 数据表['会打多少分'].cat.codes\n",
    "result = somersd(x,y)\n",
    "result.statistic\n",
    "somersd(x,y)"
   ]
  },
  {
   "cell_type": "code",
   "execution_count": 27,
   "metadata": {},
   "outputs": [
    {
     "name": "stdout",
     "output_type": "stream",
     "text": [
      "Somers dy系数: 0.0740 极弱相关或无相关\n",
      "----  --  --  --  ---  --\n",
      "预科   0   0   5    7   2\n",
      "大一   6   9  39  160  93\n",
      "大二  12  14  65  114  73\n",
      "大三   7   3  35   88  39\n",
      "大四   2   2  17   43  30\n",
      "----  --  --  --  ---  --\n",
      "p值： 0.0114\n",
      "拒绝虚无假设\n"
     ]
    }
   ],
   "source": [
    "mytools.两个有序类别变量的统计分析(数据表,'年级','会打多少分')"
   ]
  },
  {
   "cell_type": "code",
   "execution_count": 28,
   "metadata": {},
   "outputs": [
    {
     "name": "stdout",
     "output_type": "stream",
     "text": [
      "education_level  college  graduate  high school  All\n",
      "gender                                              \n",
      "female                 1         3            0    4\n",
      "male                   2         0            2    4\n",
      "All                    3         3            2    8\n"
     ]
    },
    {
     "data": {
      "image/png": "[encoded data removed]",
      "text/plain": [
       "<Figure size 432x288 with 2 Axes>"
      ]
     },
     "metadata": {
      "needs_background": "light"
     },
     "output_type": "display_data"
    }
   ],
   "source": [
    "import pandas as pd\n",
    "import seaborn as sns\n",
    "\n",
    "# 创建一个示例数据集\n",
    "df = pd.DataFrame({\n",
    "    'gender': ['male', 'male', 'female', 'female', 'male', 'female', 'male', 'female'],\n",
    "    'education_level': ['high school', 'college', 'college', 'graduate', 'high school', 'graduate', 'college', 'graduate'],\n",
    "    'score': [75, 82, 88, 95, 69, 92, 78, 85]\n",
    "})\n",
    "\n",
    "# 创建包含比例和合计的交叉表\n",
    "ct_margins = pd.crosstab(df['gender'], df['education_level'], margins=True)\n",
    "sns.heatmap(ct_margins, cmap='coolwarm', annot=True)\n",
    "print(ct_margins)"
   ]
  }
 ],
 "metadata": {
  "kernelspec": {
   "display_name": "Python 3",
   "language": "python",
   "name": "python3"
  },
  "language_info": {
   "codemirror_mode": {
    "name": "ipython",
    "version": 3
   },
   "file_extension": ".py",
   "mimetype": "text/x-python",
   "name": "python",
   "nbconvert_exporter": "python",
   "pygments_lexer": "ipython3",
   "version": "3.8.10"
  },
  "orig_nbformat": 4
 },
 "nbformat": 4,
 "nbformat_minor": 2
}
